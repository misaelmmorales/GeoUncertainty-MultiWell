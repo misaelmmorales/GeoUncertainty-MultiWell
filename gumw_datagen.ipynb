{
 "cells": [
  {
   "cell_type": "code",
   "execution_count": 1,
   "id": "c0ad13db",
   "metadata": {},
   "outputs": [
    {
     "name": "stdout",
     "output_type": "stream",
     "text": [
      "------------------------------------------------------------\n",
      "----------------------- VERSION INFO -----------------------\n",
      "Torch version: 2.7.1+cu126 | Torch Built with CUDA? True\n",
      "# Device(s) available: 1, Name(s): NVIDIA GeForce RTX 3090\n",
      "------------------------------------------------------------\n"
     ]
    }
   ],
   "source": [
    "import os, time, h5py\n",
    "from tqdm import tqdm\n",
    "import numpy as np\n",
    "from scipy import ndimage\n",
    "import matplotlib as mpl\n",
    "import matplotlib.pyplot as plt\n",
    "from matplotlib.gridspec import GridSpec\n",
    "\n",
    "import torch\n",
    "import torch.nn as nn\n",
    "import torch.optim as optim\n",
    "import torch.nn.functional as F\n",
    "from torch.utils.data import DataLoader, TensorDataset\n",
    "\n",
    "def check_torch():\n",
    "    torch_version, cuda_avail = torch.__version__, torch.cuda.is_available()\n",
    "    count, name = torch.cuda.device_count(), torch.cuda.get_device_name()\n",
    "    device = torch.device('cuda' if cuda_avail else 'cpu')\n",
    "    print('-'*60)\n",
    "    print('----------------------- VERSION INFO -----------------------')\n",
    "    print('Torch version: {} | Torch Built with CUDA? {}'.format(torch_version, cuda_avail))\n",
    "    print('# Device(s) available: {}, Name(s): {}'.format(count, name))\n",
    "    print('-'*60)\n",
    "    return device\n",
    "\n",
    "device = check_torch()\n",
    "cmap, interp = 'binary', 'bicubic'"
   ]
  },
  {
   "cell_type": "code",
   "execution_count": 2,
   "id": "c2792a1f",
   "metadata": {},
   "outputs": [
    {
     "name": "stdout",
     "output_type": "stream",
     "text": [
      "Facies shape: (318, 256, 256, 128)\n"
     ]
    }
   ],
   "source": [
    "with h5py.File('data/facies.h5', 'r') as f:\n",
    "    facies = f['facies'][:]\n",
    "print('Facies shape: {}'.format(facies.shape))"
   ]
  },
  {
   "cell_type": "code",
   "execution_count": 24,
   "id": "39b3cda6",
   "metadata": {},
   "outputs": [
    {
     "name": "stdout",
     "output_type": "stream",
     "text": [
      "Planar facies shape: (81408, 1, 128, 256)\n"
     ]
    }
   ],
   "source": [
    "facies_planar = np.expand_dims(np.transpose(facies, (0,2,1,3)).reshape(-1, 256, 128).transpose(0,2,1), 1)\n",
    "print('Planar facies shape: {}'.format(facies_planar.shape))"
   ]
  },
  {
   "cell_type": "code",
   "execution_count": null,
   "id": "6407cca6",
   "metadata": {},
   "outputs": [
    {
     "name": "stdout",
     "output_type": "stream",
     "text": [
      "Well x-locations: [ 33  49 121 129 184]\n"
     ]
    },
    {
     "ename": "IndexError",
     "evalue": "index 129 is out of bounds for axis 2 with size 128",
     "output_type": "error",
     "traceback": [
      "\u001b[31m---------------------------------------------------------------------------\u001b[39m",
      "\u001b[31mIndexError\u001b[39m                                Traceback (most recent call last)",
      "\u001b[36mCell\u001b[39m\u001b[36m \u001b[39m\u001b[32mIn[35]\u001b[39m\u001b[32m, line 9\u001b[39m\n\u001b[32m      6\u001b[39m wx = np.sort(np.random.randint(extent[\u001b[32m0\u001b[39m], extent[\u001b[32m1\u001b[39m], size=(nwells,)))\n\u001b[32m      7\u001b[39m \u001b[38;5;28mprint\u001b[39m(\u001b[33m'\u001b[39m\u001b[33mWell x-locations: \u001b[39m\u001b[38;5;132;01m{}\u001b[39;00m\u001b[33m'\u001b[39m.format(wx))\n\u001b[32m----> \u001b[39m\u001b[32m9\u001b[39m well_logs = \u001b[43mfacies_planar\u001b[49m\u001b[43m[\u001b[49m\u001b[43m.\u001b[49m\u001b[43m.\u001b[49m\u001b[43m.\u001b[49m\u001b[43m,\u001b[49m\u001b[43mwx\u001b[49m\u001b[43m,\u001b[49m\u001b[43m:\u001b[49m\u001b[43m]\u001b[49m\n",
      "\u001b[31mIndexError\u001b[39m: index 129 is out of bounds for axis 2 with size 128"
     ]
    }
   ],
   "source": [
    "nwells = 5\n",
    "extent = (15, 255-16)\n",
    "\n",
    "depth = np.arange(facies_planar.shape[-2])\n",
    "nz = len(depth)\n",
    "wx = np.sort(np.random.randint(extent[0], extent[1], size=(nwells,)))\n",
    "print('Well x-locations: {}'.format(wx))\n",
    "\n",
    "well_logs = facies_planar[...,wx]\n",
    "noise_logs = well_logs + np.random.normal(0, 0.2*facies)"
   ]
  },
  {
   "cell_type": "code",
   "execution_count": null,
   "id": "8acb9231",
   "metadata": {},
   "outputs": [],
   "source": []
  },
  {
   "cell_type": "code",
   "execution_count": null,
   "id": "8d554144",
   "metadata": {},
   "outputs": [
    {
     "name": "stdout",
     "output_type": "stream",
     "text": [
      "Y - train: (500, 1, 128, 256) | val: (150, 1, 128, 256) | test: (150, 1, 128, 256)\n"
     ]
    }
   ],
   "source": [
    "rand_idx = np.random.choice(facies_planar.shape[0], facies_planar.shape[0], replace=False)\n",
    "train_idx, val_idx, test_idx = rand_idx[:500], rand_idx[500:650], rand_idx[650:800]\n",
    "\n",
    "\n",
    "y_train, y_val, y_test = facies_planar[train_idx], facies_planar[val_idx], facies_planar[test_idx]\n",
    "print('Y - train: {} | val: {} | test: {}'.format(y_train.shape, y_val.shape, y_test.shape))"
   ]
  },
  {
   "cell_type": "code",
   "execution_count": null,
   "id": "5dc76bc6",
   "metadata": {},
   "outputs": [],
   "source": []
  },
  {
   "cell_type": "code",
   "execution_count": null,
   "id": "e6236efa",
   "metadata": {},
   "outputs": [],
   "source": []
  },
  {
   "cell_type": "code",
   "execution_count": null,
   "id": "b8321a2e",
   "metadata": {},
   "outputs": [],
   "source": []
  },
  {
   "cell_type": "code",
   "execution_count": null,
   "id": "2b4772e2",
   "metadata": {},
   "outputs": [],
   "source": []
  },
  {
   "cell_type": "markdown",
   "id": "06968665",
   "metadata": {},
   "source": [
    "***\n",
    "# END"
   ]
  }
 ],
 "metadata": {
  "kernelspec": {
   "display_name": "torchy",
   "language": "python",
   "name": "python3"
  },
  "language_info": {
   "codemirror_mode": {
    "name": "ipython",
    "version": 3
   },
   "file_extension": ".py",
   "mimetype": "text/x-python",
   "name": "python",
   "nbconvert_exporter": "python",
   "pygments_lexer": "ipython3",
   "version": "3.12.11"
  }
 },
 "nbformat": 4,
 "nbformat_minor": 5
}
